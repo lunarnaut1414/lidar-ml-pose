{
 "cells": [
  {
   "cell_type": "code",
   "execution_count": 85,
   "id": "d9bc4bb1",
   "metadata": {},
   "outputs": [],
   "source": [
    "import sys\n",
    "import os\n",
    "import scipy.io\n",
    "import numpy as np\n",
    "import matplotlib.pyplot as plt\n"
   ]
  },
  {
   "cell_type": "code",
   "execution_count": 93,
   "id": "975ca0df",
   "metadata": {},
   "outputs": [],
   "source": [
    "# Add the common directory to path\n",
    "sys.path.append(os.path.abspath('../common'))\n",
    "\n",
    "# Import the common functions\n",
    "from lidarMath import vmag\n"
   ]
  },
  {
   "cell_type": "code",
   "execution_count": 29,
   "id": "2f71001a",
   "metadata": {},
   "outputs": [],
   "source": [
    "lidarDataPath = \"C:\\\\sandbox\\\\datasets\\\\All_estimation_input_data_DoubleLoop\\\\\"\n",
    "lidarDataFiles = os.listdir(lidarDataPath)"
   ]
  },
  {
   "cell_type": "code",
   "execution_count": 40,
   "id": "edb086a0",
   "metadata": {},
   "outputs": [],
   "source": [
    "idx = 0\n",
    "lidarMatData = scipy.io.loadmat(\"\".join([lidarDataPath, lidarDataFiles[idx]]))\n"
   ]
  },
  {
   "cell_type": "code",
   "execution_count": null,
   "id": "b5f92edc",
   "metadata": {},
   "outputs": [],
   "source": [
    "# Map the test data to new variable names\n",
    "lidarData = lidarMatData['LiDARpc']\n",
    "viconData = lidarMatData['VICONpc']\n",
    "\n",
    "# Start Time\n",
    "startTime = 14.7\n",
    "startIdx = 148\n",
    "finalIdx = 148 + 202 -1 \n",
    "\n",
    "# Fetch the number of indices in the lidar test data\n",
    "numLidarIdx = np.size(lidarData, 1)\n",
    "numLidarScan = numLidarIdx\n",
    "\n",
    "timestampIdx = 0\n",
    "lidarXIdx = 5\n",
    "lidarYIdx = 6\n",
    "lidarZIdx = 7\n",
    "\n",
    "for idx in range(startIdx, finalIdx):\n",
    "  # Pull the timestamp\n",
    "  timestampLidar = lidarMatData['LiDARpc'][idx,0][:,timestampIdx]\n",
    "\n",
    "  # Pull the point cloud\n",
    "  ptCloud = np.array([lidarMatData['LiDARpc'][idx,0][:,lidarXIdx], \n",
    "                      lidarMatData['LiDARpc'][idx,0][:,lidarYIdx], \n",
    "                      lidarMatData['LiDARpc'][idx,0][:,lidarZIdx]])\n",
    "\n",
    "  # Calculate the range of each point cloud\n",
    "  rangePtCloud = vmag(ptCloud.T)\n",
    "\n",
    "# Calculate the range of each point cloud\n",
    "rangePtCloud = vmag(ptCloud.T)[:,0]\n",
    "\n",
    "# Sort the point cloud by range\n",
    "sortIdx = np.argsort(rangePtCloud)\n",
    "\n",
    "# Pull the nth closest point clouds\n",
    "lidar[idx].timestamp = timestampLidar[sortIdx]\n",
    "lidar[idx].ptCloud   = ptCloud[sortIdx,:]\n",
    "\n",
    "  # Pull the point cloud position of each lidar scan\n",
    "  LidarData = lidarMatData['LiDARpc'][idx,0]\n",
    "  [~,sortIdx] = sort(LidarData{idx}(:,2))\n",
    "  LidarData{idx} = LidarData{idx}(sortIdx,:)\n",
    "  "
   ]
  },
  {
   "cell_type": "code",
   "execution_count": 132,
   "id": "0c0cbce7",
   "metadata": {},
   "outputs": [
    {
     "ename": "NameError",
     "evalue": "name 'lidar' is not defined",
     "output_type": "error",
     "traceback": [
      "\u001b[31m---------------------------------------------------------------------------\u001b[39m",
      "\u001b[31mNameError\u001b[39m                                 Traceback (most recent call last)",
      "\u001b[36mCell\u001b[39m\u001b[36m \u001b[39m\u001b[32mIn[132]\u001b[39m\u001b[32m, line 2\u001b[39m\n\u001b[32m      1\u001b[39m \u001b[38;5;66;03m# Pull the nth closest point clouds\u001b[39;00m\n\u001b[32m----> \u001b[39m\u001b[32m2\u001b[39m \u001b[43mlidar\u001b[49m[idx].timestamp = timestampLidar[sortIdx]\n\u001b[32m      3\u001b[39m lidar[idx].ptCloud   = ptCloud[sortIdx,:]\n",
      "\u001b[31mNameError\u001b[39m: name 'lidar' is not defined"
     ]
    }
   ],
   "source": [
    "# Pull the nth closest point clouds\n",
    "lidar[idx].timestamp = timestampLidar[sortIdx]\n",
    "lidar[idx].ptCloud   = ptCloud[sortIdx,:]"
   ]
  },
  {
   "cell_type": "code",
   "execution_count": 130,
   "id": "d4f1971c",
   "metadata": {},
   "outputs": [
    {
     "data": {
      "text/plain": [
       "array([2030., 2032., 2034., ..., 5000., 5000., 5000.])"
      ]
     },
     "execution_count": 130,
     "metadata": {},
     "output_type": "execute_result"
    }
   ],
   "source": [
    "rangePtCloud[sortIdx]"
   ]
  },
  {
   "cell_type": "code",
   "execution_count": 65,
   "id": "6cbdf794",
   "metadata": {},
   "outputs": [
    {
     "data": {
      "text/plain": [
       "(8758, 8)"
      ]
     },
     "execution_count": 65,
     "metadata": {},
     "output_type": "execute_result"
    }
   ],
   "source": [
    "lidarMatData['LiDARpc'][0,0].shape"
   ]
  }
 ],
 "metadata": {
  "kernelspec": {
   "display_name": "lidar-ml-py",
   "language": "python",
   "name": "python3"
  },
  "language_info": {
   "codemirror_mode": {
    "name": "ipython",
    "version": 3
   },
   "file_extension": ".py",
   "mimetype": "text/x-python",
   "name": "python",
   "nbconvert_exporter": "python",
   "pygments_lexer": "ipython3",
   "version": "3.13.2"
  }
 },
 "nbformat": 4,
 "nbformat_minor": 5
}
