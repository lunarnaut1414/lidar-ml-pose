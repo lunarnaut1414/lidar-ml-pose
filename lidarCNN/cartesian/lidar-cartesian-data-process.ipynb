{
 "cells": [
  {
   "cell_type": "code",
   "execution_count": 141,
   "id": "d9bc4bb1",
   "metadata": {},
   "outputs": [],
   "source": [
    "import sys\n",
    "import os\n",
    "import scipy.io\n",
    "import numpy as np\n",
    "import json\n",
    "import matplotlib.pyplot as plt\n",
    "from IPython.display import clear_output\n",
    "%matplotlib inline\n",
    "from PIL import Image\n",
    "import tifffile\n",
    "\n",
    "import dataclasses"
   ]
  },
  {
   "cell_type": "code",
   "execution_count": 2,
   "id": "975ca0df",
   "metadata": {},
   "outputs": [],
   "source": [
    "# Add the common directory to path\n",
    "sys.path.append(os.path.abspath('../common'))\n",
    "\n",
    "# Import the common functions\n",
    "from lidarMath import vmag\n"
   ]
  },
  {
   "cell_type": "code",
   "execution_count": 102,
   "id": "01cef717",
   "metadata": {},
   "outputs": [],
   "source": [
    "class LidarJsonStruct:\n",
    "    # Constructor (initialization) method\n",
    "    def __init__(self):\n",
    "        # Instance attributes (unique to each instance)\n",
    "        self.trajectoryStr = []\n",
    "        self.sampleNum = []\n",
    "        self.timestamp = []\n",
    "        self.imageName = []"
   ]
  },
  {
   "cell_type": "code",
   "execution_count": 120,
   "id": "5e0f905b",
   "metadata": {},
   "outputs": [],
   "source": [
    "import json\n",
    "from dataclasses import dataclass, field, asdict\n",
    "from typing import List\n",
    "\n",
    "\n",
    "@dataclass\n",
    "class LidarEntry:\n",
    "    \"\"\"Represents a single lidar data entry\"\"\"\n",
    "    trajectoryStr: str\n",
    "    sampleNum: int\n",
    "    timestamp: float\n",
    "    imageName: str\n",
    "\n",
    "\n",
    "@dataclass\n",
    "class LidarJsonStruct:\n",
    "    \"\"\"Collection of lidar data entries that can be serialized to JSON\"\"\"\n",
    "    entries: List[LidarEntry] = field(default_factory=list)\n",
    "    \n",
    "    def add_entry(self, trajectory_str: str, sample_num: int, \n",
    "                 timestamp: float, image_name: str) -> None:\n",
    "        \"\"\"Add a new entry to the lidar data structure\"\"\"\n",
    "        entry = LidarEntry(\n",
    "            trajectoryStr=trajectory_str,\n",
    "            sampleNum=sample_num,\n",
    "            timestamp=timestamp,\n",
    "            imageName=image_name\n",
    "        )\n",
    "        self.entries.append(entry)\n",
    "    \n",
    "    def to_json(self, indent=4) -> str:\n",
    "        \"\"\"Convert the entire structure to a JSON string\"\"\"\n",
    "        return json.dumps(asdict(self), indent=indent)\n",
    "    \n",
    "    def save_to_file(self, filename: str) -> None:\n",
    "        \"\"\"Save the structure to a JSON file\"\"\"\n",
    "        with open(filename, 'w') as f:\n",
    "            f.write(self.to_json())\n",
    "    \n",
    "    @classmethod\n",
    "    def from_json(cls, json_str: str) -> 'LidarJsonStruct':\n",
    "        \"\"\"Create a LidarJsonStruct from a JSON string\"\"\"\n",
    "        data = json.loads(json_str)\n",
    "        result = cls()\n",
    "        \n",
    "        for entry_data in data['entries']:\n",
    "            result.add_entry(\n",
    "                entry_data['trajectoryStr'],\n",
    "                entry_data['sampleNum'],\n",
    "                entry_data['timestamp'],\n",
    "                entry_data['imageName']\n",
    "            )\n",
    "        return result\n",
    "    \n",
    "    @classmethod\n",
    "    def load_from_file(cls, filename: str) -> 'LidarJsonStruct':\n",
    "        \"\"\"Load a LidarJsonStruct from a JSON file\"\"\"\n",
    "        with open(filename, 'r') as f:\n",
    "            return cls.from_json(f.read())"
   ]
  },
  {
   "cell_type": "code",
   "execution_count": 121,
   "id": "84ded23e",
   "metadata": {},
   "outputs": [
    {
     "data": {
      "text/plain": [
       "LidarJsonStruct(entries=[])"
      ]
     },
     "execution_count": 121,
     "metadata": {},
     "output_type": "execute_result"
    }
   ],
   "source": [
    "\n",
    "lidar"
   ]
  },
  {
   "cell_type": "code",
   "execution_count": 122,
   "id": "2f71001a",
   "metadata": {},
   "outputs": [],
   "source": [
    "lidarDataPath = \"/home/julian/sandbox/datasets/vt-lidar/All_estimation_input_data_DoubleLoop/\"\n",
    "lidarDataFiles = sorted(os.listdir(lidarDataPath))"
   ]
  },
  {
   "cell_type": "code",
   "execution_count": 123,
   "id": "edb086a0",
   "metadata": {},
   "outputs": [],
   "source": [
    "fileIdx = 0\n",
    "lidarMatData = scipy.io.loadmat(\"\".join([lidarDataPath, lidarDataFiles[fileIdx]]))\n",
    "\n",
    "# lidarStruct = [[] for _ in range(lidarDataFiles.__len__())]\n"
   ]
  },
  {
   "cell_type": "code",
   "execution_count": 152,
   "id": "b5f92edc",
   "metadata": {},
   "outputs": [
    {
     "data": {
      "image/png": "[encoded data removed]",
      "text/plain": [
       "<Figure size 1000x1000 with 1 Axes>"
      ]
     },
     "metadata": {},
     "output_type": "display_data"
    }
   ],
   "source": [
    "# Create an empty list that will hold dictionaries\n",
    "lidar = LidarJsonStruct()\n",
    "\n",
    "# Map the test data to new variable names\n",
    "lidarData = lidarMatData['LiDARpc']\n",
    "viconData = lidarMatData['VICONpc']\n",
    "\n",
    "# Start Time\n",
    "startTime = 14.7\n",
    "startIdx = 148\n",
    "finalIdx = 148 + 202 -1 \n",
    "finalIdx = 148 + 5\n",
    "\n",
    "# Fetch the number of indices in the lidar test data\n",
    "numLidarIdx = np.size(lidarData, 1)\n",
    "numLidarScan = numLidarIdx\n",
    "\n",
    "timestampIdx = 0\n",
    "lidarXIdx = 5\n",
    "lidarYIdx = 6\n",
    "lidarZIdx = 7\n",
    "\n",
    "normPts = 2000\n",
    "\n",
    "img_row = 200; img_col = 200\n",
    "principalPoint = np.array([(img_row-1) / 2, (img_col-1) / 2])\n",
    "\n",
    "# Define the rotation angle\n",
    "rot_ang = -np.pi / 2\n",
    "\n",
    "# Define the rotation matrix\n",
    "mRotImg = np.array([[np.cos(rot_ang), -np.sin(rot_ang)], [np.sin(rot_ang), np.cos(rot_ang)]])\n",
    "\n",
    "# Create figure and axis\n",
    "plt.figure(figsize=(10, 10))\n",
    "\n",
    "trajStr = lidarDataFiles[fileIdx][:-4]\n",
    "\n",
    "for dataIdx in range(startIdx, finalIdx):\n",
    "  # Initialize the lidar image\n",
    "  lidar2DImg = np.zeros([img_row, img_col])\n",
    "\n",
    "\n",
    "  # Pull the timestamp\n",
    "  timestampLidar = lidarMatData['LiDARpc'][dataIdx,0][:,timestampIdx]\n",
    "\n",
    "  # Pull the point cloud\n",
    "  ptCloud = np.array([lidarMatData['LiDARpc'][dataIdx,0][:,lidarXIdx], \n",
    "                      lidarMatData['LiDARpc'][dataIdx,0][:,lidarYIdx], \n",
    "                      lidarMatData['LiDARpc'][dataIdx,0][:,lidarZIdx]])\n",
    "\n",
    "  ptCloud = ptCloud / normPts\n",
    "\n",
    "  for ptIdx in range(ptCloud.shape[1]):\n",
    "    pt = ptCloud[:,ptIdx]\n",
    "    ptImg = np.int32(np.floor(pt[[0,2]] @ mRotImg * np.array([img_row, img_col]) + principalPoint))\n",
    "\n",
    "    if ((ptImg[0] >= 0) & (ptImg[0] < img_row)):\n",
    "      if ((ptImg[1] >= 0) & (ptImg[1] < img_col)):\n",
    "        if (lidar2DImg[ptImg[0],ptImg[1]] == 0):\n",
    "          lidar2DImg[ptImg[0],ptImg[1]] = pt[1]\n",
    "        elif (np.abs(pt[1]) < np.abs(lidar2DImg[ptImg[0],ptImg[1]])):\n",
    "          lidar2DImg[ptImg[0],ptImg[1]] = pt[1]\n",
    "\n",
    "\n",
    "  # Pull the nth closest point clouds\n",
    "  imgStr = trajStr + '_sample_' + str(dataIdx) + '.tiff'\n",
    "  lidar.add_entry(lidarDataFiles[fileIdx], dataIdx, np.mean(timestampLidar), imgStr)\n",
    "\n",
    "  # write the image data\n",
    "  writePath = './images/' + imgStr\n",
    "  tifffile.imwrite(writePath, lidar2DImg)\n",
    "\n",
    "  # Clear previous output\n",
    "  clear_output(wait=True)\n",
    "  \n",
    "  plt.clf()\n",
    "  # Show the project lidar points\n",
    "  plt.imshow(lidar2DImg)\n",
    "\n",
    "  # This ensures the plot is displayed during the loop\n",
    "\n",
    "  plt.draw()\n",
    "  display(plt.gcf())\n",
    "\n",
    "plt.close('all') \n",
    "\n",
    "lidar.save_to_file('lidar_data.json')\n"
   ]
  },
  {
   "cell_type": "code",
   "execution_count": 145,
   "id": "5cb6edcc",
   "metadata": {},
   "outputs": [
    {
     "data": {
      "text/plain": [
       "['./imagesPointsExtraAssoc_07122020onehr_01_sample_148.tiff']"
      ]
     },
     "execution_count": 145,
     "metadata": {},
     "output_type": "execute_result"
    }
   ],
   "source": [
    "['./images' + imgStr]"
   ]
  },
  {
   "cell_type": "code",
   "execution_count": 133,
   "id": "7bdf0b81",
   "metadata": {},
   "outputs": [
    {
     "data": {
      "text/plain": [
       "'PointsExtraAssoc_07122020onehr_01_sample_148.tif'"
      ]
     },
     "execution_count": 133,
     "metadata": {},
     "output_type": "execute_result"
    }
   ],
   "source": [
    "trajStr = lidarDataFiles[fileIdx][:-4]\n",
    "imgStr = trajStr + '_sample_' + str(dataIdx) + '.tif'\n",
    "imgStr "
   ]
  },
  {
   "cell_type": "code",
   "execution_count": 107,
   "id": "68c4f45f",
   "metadata": {},
   "outputs": [
    {
     "data": {
      "text/plain": [
       "<__main__.LidarJsonStruct at 0x7ff7d077aa90>"
      ]
     },
     "execution_count": 107,
     "metadata": {},
     "output_type": "execute_result"
    }
   ],
   "source": [
    "lidar"
   ]
  },
  {
   "cell_type": "code",
   "execution_count": 109,
   "id": "99e7150b",
   "metadata": {},
   "outputs": [
    {
     "ename": "TypeError",
     "evalue": "Object of type LidarJsonStruct is not JSON serializable",
     "output_type": "error",
     "traceback": [
      "\u001b[0;31m---------------------------------------------------------------------------\u001b[0m",
      "\u001b[0;31mTypeError\u001b[0m                                 Traceback (most recent call last)",
      "Cell \u001b[0;32mIn[109], line 2\u001b[0m\n\u001b[1;32m      1\u001b[0m \u001b[38;5;28;01mwith\u001b[39;00m \u001b[38;5;28mopen\u001b[39m(\u001b[38;5;124m'\u001b[39m\u001b[38;5;124mdata.json\u001b[39m\u001b[38;5;124m'\u001b[39m, \u001b[38;5;124m'\u001b[39m\u001b[38;5;124mw\u001b[39m\u001b[38;5;124m'\u001b[39m) \u001b[38;5;28;01mas\u001b[39;00m json_file:\n\u001b[0;32m----> 2\u001b[0m     \u001b[43mjson\u001b[49m\u001b[38;5;241;43m.\u001b[39;49m\u001b[43mdump\u001b[49m\u001b[43m(\u001b[49m\n\u001b[1;32m      3\u001b[0m \u001b[43m        \u001b[49m\u001b[43mlidar\u001b[49m\u001b[43m,\u001b[49m\u001b[43m \u001b[49m\n\u001b[1;32m      4\u001b[0m \u001b[43m        \u001b[49m\u001b[43mjson_file\u001b[49m\u001b[43m,\u001b[49m\n\u001b[1;32m      5\u001b[0m \u001b[43m        \u001b[49m\u001b[43mindent\u001b[49m\u001b[38;5;241;43m=\u001b[39;49m\u001b[38;5;241;43m4\u001b[39;49m\u001b[43m,\u001b[49m\n\u001b[1;32m      6\u001b[0m \u001b[43m        \u001b[49m\u001b[43mensure_ascii\u001b[49m\u001b[38;5;241;43m=\u001b[39;49m\u001b[38;5;28;43;01mFalse\u001b[39;49;00m\u001b[43m,\u001b[49m\u001b[43m  \u001b[49m\u001b[38;5;66;43;03m# For proper handling of non-ASCII characters\u001b[39;49;00m\n\u001b[1;32m      7\u001b[0m \u001b[43m        \u001b[49m\u001b[43msort_keys\u001b[49m\u001b[38;5;241;43m=\u001b[39;49m\u001b[38;5;28;43;01mTrue\u001b[39;49;00m\u001b[43m  \u001b[49m\u001b[38;5;66;43;03m# Optional: alphabetically sort the keys\u001b[39;49;00m\n\u001b[1;32m      8\u001b[0m \u001b[43m    \u001b[49m\u001b[43m)\u001b[49m\n",
      "File \u001b[0;32m~/miniconda3/envs/lidar-ml-py/lib/python3.9/json/__init__.py:179\u001b[0m, in \u001b[0;36mdump\u001b[0;34m(obj, fp, skipkeys, ensure_ascii, check_circular, allow_nan, cls, indent, separators, default, sort_keys, **kw)\u001b[0m\n\u001b[1;32m    173\u001b[0m     iterable \u001b[38;5;241m=\u001b[39m \u001b[38;5;28mcls\u001b[39m(skipkeys\u001b[38;5;241m=\u001b[39mskipkeys, ensure_ascii\u001b[38;5;241m=\u001b[39mensure_ascii,\n\u001b[1;32m    174\u001b[0m         check_circular\u001b[38;5;241m=\u001b[39mcheck_circular, allow_nan\u001b[38;5;241m=\u001b[39mallow_nan, indent\u001b[38;5;241m=\u001b[39mindent,\n\u001b[1;32m    175\u001b[0m         separators\u001b[38;5;241m=\u001b[39mseparators,\n\u001b[1;32m    176\u001b[0m         default\u001b[38;5;241m=\u001b[39mdefault, sort_keys\u001b[38;5;241m=\u001b[39msort_keys, \u001b[38;5;241m*\u001b[39m\u001b[38;5;241m*\u001b[39mkw)\u001b[38;5;241m.\u001b[39miterencode(obj)\n\u001b[1;32m    177\u001b[0m \u001b[38;5;66;03m# could accelerate with writelines in some versions of Python, at\u001b[39;00m\n\u001b[1;32m    178\u001b[0m \u001b[38;5;66;03m# a debuggability cost\u001b[39;00m\n\u001b[0;32m--> 179\u001b[0m \u001b[38;5;28;01mfor\u001b[39;00m chunk \u001b[38;5;129;01min\u001b[39;00m iterable:\n\u001b[1;32m    180\u001b[0m     fp\u001b[38;5;241m.\u001b[39mwrite(chunk)\n",
      "File \u001b[0;32m~/miniconda3/envs/lidar-ml-py/lib/python3.9/json/encoder.py:438\u001b[0m, in \u001b[0;36m_make_iterencode.<locals>._iterencode\u001b[0;34m(o, _current_indent_level)\u001b[0m\n\u001b[1;32m    436\u001b[0m         \u001b[38;5;28;01mraise\u001b[39;00m \u001b[38;5;167;01mValueError\u001b[39;00m(\u001b[38;5;124m\"\u001b[39m\u001b[38;5;124mCircular reference detected\u001b[39m\u001b[38;5;124m\"\u001b[39m)\n\u001b[1;32m    437\u001b[0m     markers[markerid] \u001b[38;5;241m=\u001b[39m o\n\u001b[0;32m--> 438\u001b[0m o \u001b[38;5;241m=\u001b[39m \u001b[43m_default\u001b[49m\u001b[43m(\u001b[49m\u001b[43mo\u001b[49m\u001b[43m)\u001b[49m\n\u001b[1;32m    439\u001b[0m \u001b[38;5;28;01myield from\u001b[39;00m _iterencode(o, _current_indent_level)\n\u001b[1;32m    440\u001b[0m \u001b[38;5;28;01mif\u001b[39;00m markers \u001b[38;5;129;01mis\u001b[39;00m \u001b[38;5;129;01mnot\u001b[39;00m \u001b[38;5;28;01mNone\u001b[39;00m:\n",
      "File \u001b[0;32m~/miniconda3/envs/lidar-ml-py/lib/python3.9/json/encoder.py:179\u001b[0m, in \u001b[0;36mJSONEncoder.default\u001b[0;34m(self, o)\u001b[0m\n\u001b[1;32m    160\u001b[0m \u001b[38;5;28;01mdef\u001b[39;00m\u001b[38;5;250m \u001b[39m\u001b[38;5;21mdefault\u001b[39m(\u001b[38;5;28mself\u001b[39m, o):\n\u001b[1;32m    161\u001b[0m \u001b[38;5;250m    \u001b[39m\u001b[38;5;124;03m\"\"\"Implement this method in a subclass such that it returns\u001b[39;00m\n\u001b[1;32m    162\u001b[0m \u001b[38;5;124;03m    a serializable object for ``o``, or calls the base implementation\u001b[39;00m\n\u001b[1;32m    163\u001b[0m \u001b[38;5;124;03m    (to raise a ``TypeError``).\u001b[39;00m\n\u001b[0;32m   (...)\u001b[0m\n\u001b[1;32m    177\u001b[0m \n\u001b[1;32m    178\u001b[0m \u001b[38;5;124;03m    \"\"\"\u001b[39;00m\n\u001b[0;32m--> 179\u001b[0m     \u001b[38;5;28;01mraise\u001b[39;00m \u001b[38;5;167;01mTypeError\u001b[39;00m(\u001b[38;5;124mf\u001b[39m\u001b[38;5;124m'\u001b[39m\u001b[38;5;124mObject of type \u001b[39m\u001b[38;5;132;01m{\u001b[39;00mo\u001b[38;5;241m.\u001b[39m\u001b[38;5;18m__class__\u001b[39m\u001b[38;5;241m.\u001b[39m\u001b[38;5;18m__name__\u001b[39m\u001b[38;5;132;01m}\u001b[39;00m\u001b[38;5;124m \u001b[39m\u001b[38;5;124m'\u001b[39m\n\u001b[1;32m    180\u001b[0m                     \u001b[38;5;124mf\u001b[39m\u001b[38;5;124m'\u001b[39m\u001b[38;5;124mis not JSON serializable\u001b[39m\u001b[38;5;124m'\u001b[39m)\n",
      "\u001b[0;31mTypeError\u001b[0m: Object of type LidarJsonStruct is not JSON serializable"
     ]
    }
   ],
   "source": [
    "with open('data.json', 'w') as json_file:\n",
    "    json.dump(\n",
    "        lidar, \n",
    "        json_file,\n",
    "        indent=4,\n",
    "        ensure_ascii=False,  # For proper handling of non-ASCII characters\n",
    "        sort_keys=True  # Optional: alphabetically sort the keys\n",
    "    )"
   ]
  },
  {
   "cell_type": "code",
   "execution_count": null,
   "id": "2801cbbf",
   "metadata": {},
   "outputs": [],
   "source": []
  }
 ],
 "metadata": {
  "kernelspec": {
   "display_name": "lidar-ml-py",
   "language": "python",
   "name": "python3"
  },
  "language_info": {
   "codemirror_mode": {
    "name": "ipython",
    "version": 3
   },
   "file_extension": ".py",
   "mimetype": "text/x-python",
   "name": "python",
   "nbconvert_exporter": "python",
   "pygments_lexer": "ipython3",
   "version": "3.9.21"
  }
 },
 "nbformat": 4,
 "nbformat_minor": 5
}
